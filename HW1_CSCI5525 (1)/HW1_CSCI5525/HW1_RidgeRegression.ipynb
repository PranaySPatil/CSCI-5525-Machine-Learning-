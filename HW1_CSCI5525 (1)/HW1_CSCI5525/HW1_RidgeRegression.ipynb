{
  "nbformat": 4,
  "nbformat_minor": 0,
  "metadata": {
    "colab": {
      "name": "HW1-RidgeRegression.ipynb",
      "provenance": [],
      "collapsed_sections": []
    },
    "kernelspec": {
      "name": "python3",
      "display_name": "Python 3"
    }
  },
  "cells": [
    {
      "cell_type": "code",
      "metadata": {
        "id": "Lgso1e8bFq1b",
        "colab_type": "code",
        "colab": {}
      },
      "source": [
        "import pandas as pd\n",
        "import numpy as np\n",
        "import matplotlib.pyplot as plt"
      ],
      "execution_count": 0,
      "outputs": []
    },
    {
      "cell_type": "code",
      "metadata": {
        "id": "1FCcGbqdF1Gs",
        "colab_type": "code",
        "colab": {}
      },
      "source": [
        "no_of_folds=5"
      ],
      "execution_count": 0,
      "outputs": []
    },
    {
      "cell_type": "code",
      "metadata": {
        "id": "X9805o8CF207",
        "colab_type": "code",
        "colab": {}
      },
      "source": [
        "data=pd.read_csv(\"Housing.csv\")\n",
        "#data=data-data.mean()\n",
        "index = [i for i in range(data.shape[0])]\n",
        "np.random.shuffle(index)\n",
        "data=data.set_index([index]).sort_index()"
      ],
      "execution_count": 0,
      "outputs": []
    },
    {
      "cell_type": "code",
      "metadata": {
        "id": "ShtK29wnF4kw",
        "colab_type": "code",
        "colab": {}
      },
      "source": [
        "Y=data[\"PRICE\"]\n",
        "X=data[data.columns.difference(['PRICE'])]\n"
      ],
      "execution_count": 0,
      "outputs": []
    },
    {
      "cell_type": "code",
      "metadata": {
        "id": "YgmTdy2xGrJ6",
        "colab_type": "code",
        "colab": {}
      },
      "source": [
        "X=(X-X.mean())"
      ],
      "execution_count": 0,
      "outputs": []
    },
    {
      "cell_type": "code",
      "metadata": {
        "id": "PNXDPyOqF-tm",
        "colab_type": "code",
        "colab": {}
      },
      "source": [
        "def splitData(itr):\n",
        "  X_shuffled={};\n",
        "  Y_shuffled={};\n",
        "  size=int(len(data)/itr);\n",
        "  start=0;\n",
        "  for iterating_var in range(0,itr):\n",
        "    X_shuffled[iterating_var+1]=X[start:size*(iterating_var+1)];\n",
        "    Y_shuffled[iterating_var+1]=Y[start:size*(iterating_var+1)];\n",
        "    start=size*(iterating_var+1);\n",
        "  return X_shuffled,Y_shuffled;\n"
      ],
      "execution_count": 0,
      "outputs": []
    },
    {
      "cell_type": "code",
      "metadata": {
        "id": "NRyeplY4F_d8",
        "colab_type": "code",
        "colab": {}
      },
      "source": [
        "def getnexttrainvalid(X_shuffled, Y_shuffled, itr):\n",
        "  X_train=pd.DataFrame();\n",
        "  Y_train=pd.DataFrame(); \n",
        "  X_valid=pd.DataFrame();\n",
        "  Y_valid=pd.DataFrame();\n",
        "  for iterating_var in range(0,no_of_folds):\n",
        "    if iterating_var!=itr:\n",
        "      X_train=X_train.append(X_shuffled.get(iterating_var+1));\n",
        "      #Y_train=Y_train.append((Y_shuffled.get(iterating_var+1))[\"PRICE\"]);\n",
        "      Y_train=pd.concat([Y_train, Y_shuffled.get(iterating_var+1)]);\n",
        "    else:\n",
        "      X_valid=X_shuffled.get(iterating_var+1);\n",
        "      Y_valid=pd.concat([Y_valid, Y_shuffled.get(iterating_var+1)])\n",
        "  return X_train,Y_train,X_valid,Y_valid;"
      ],
      "execution_count": 0,
      "outputs": []
    },
    {
      "cell_type": "code",
      "metadata": {
        "id": "zApgDawCGBQG",
        "colab_type": "code",
        "colab": {}
      },
      "source": [
        "def train(X_train, Y_train,lambda_val):\n",
        "  inv=np.linalg.inv(np.dot(X_train.transpose(), X_train)+np.matrix(np.identity(13), copy=False)*lambda_val);\n",
        "  weights_with_intercep=np.dot(np.dot(inv,X_train.transpose()),Y_train);\n",
        "  model_weights=weights_with_intercep[:13];\n",
        "  model_intercept=Y_train.mean();\n",
        "  return model_weights,model_intercept;"
      ],
      "execution_count": 0,
      "outputs": []
    },
    {
      "cell_type": "code",
      "metadata": {
        "id": "qxTGAVWiGDBp",
        "colab_type": "code",
        "colab": {}
      },
      "source": [
        "def predict(Xvalid, model_weights, model_intercept):\n",
        "  #Xvalid=(Xvalid-Xvalid.mean())/Xvalid.std()\n",
        "  return np.dot(Xvalid,(model_weights))+model_intercept[0];"
      ],
      "execution_count": 0,
      "outputs": []
    },
    {
      "cell_type": "code",
      "metadata": {
        "id": "QeSOG7ANGFWR",
        "colab_type": "code",
        "colab": {}
      },
      "source": [
        "def model(lambda_val):\n",
        "  X_shuffled,Y_shuffled=splitData(no_of_folds);\n",
        "  rmse_train=0;\n",
        "  rmse_test=0;\n",
        "  for itr in range(0,no_of_folds):\n",
        "    X_train,Y_train,X_valid,Y_valid=getnexttrainvalid(X_shuffled,Y_shuffled,itr);\n",
        "    model_weights,model_intercept=train(X_train, Y_train,lambda_val);\n",
        "    res=predict(X_valid,model_weights,model_intercept);\n",
        "    res_train=predict(X_train,model_weights,model_intercept);\n",
        "    rmse_test+=rmse(pd.DataFrame(res.flatten().transpose()).values,Y_valid.values);\n",
        "    rmse_train+=rmse(pd.DataFrame(res_train.flatten().transpose()).values,Y_train.values);\n",
        "  rmse_test=rmse_test/no_of_folds;\n",
        "  rmse_train=rmse_train/no_of_folds;\n",
        "  return rmse_test,rmse_train;"
      ],
      "execution_count": 0,
      "outputs": []
    },
    {
      "cell_type": "code",
      "metadata": {
        "id": "pwlTflkMJUWm",
        "colab_type": "code",
        "outputId": "22c38987-3745-43ea-e937-8c4e982c1bd3",
        "colab": {
          "base_uri": "https://localhost:8080/",
          "height": 35
        }
      },
      "source": [
        "Y.mean()"
      ],
      "execution_count": 0,
      "outputs": [
        {
          "output_type": "execute_result",
          "data": {
            "text/plain": [
              "22.553861386138625"
            ]
          },
          "metadata": {
            "tags": []
          },
          "execution_count": 1758
        }
      ]
    },
    {
      "cell_type": "code",
      "metadata": {
        "id": "sXmBfE2aGHAV",
        "colab_type": "code",
        "colab": {}
      },
      "source": [
        "def rmse(predictions, targets):\n",
        "    diff = predictions - targets  \n",
        "    diff_sqr = diff**2                  \n",
        "    mean_of_diff_sqr = diff_sqr.mean()  \n",
        "    rmse_val = np.sqrt(mean_of_diff_sqr)           \n",
        "    return rmse_val                                "
      ],
      "execution_count": 0,
      "outputs": []
    },
    {
      "cell_type": "code",
      "metadata": {
        "id": "mawGngmDGI-Y",
        "colab_type": "code",
        "colab": {}
      },
      "source": [
        "rmse_train=[];\n",
        "rmse_test=[];\n",
        "for lambda_value in range(1,101):\n",
        "  rmse_test_val,rmse_train_val=model(lambda_value);\n",
        "  rmse_train.append(rmse_train_val);\n",
        "  rmse_test.append(rmse_test_val);\n"
      ],
      "execution_count": 0,
      "outputs": []
    },
    {
      "cell_type": "code",
      "metadata": {
        "id": "EngUZq5fGKzO",
        "colab_type": "code",
        "outputId": "5ac090bb-ba3c-4c51-a61d-277e029e5452",
        "colab": {
          "base_uri": "https://localhost:8080/",
          "height": 313
        }
      },
      "source": [
        "plt.plot(rmse_test,label=\"RMSE-Lambda Plot\")\n",
        "plt.plot(rmse_train,label=\"Train\")\n",
        "plt.title(\"Validation RMSE\")\n",
        "plt.xlabel(\"lambda\")\n",
        "plt.ylabel(\"RMSE\")\n",
        "plt.legend()"
      ],
      "execution_count": 0,
      "outputs": [
        {
          "output_type": "execute_result",
          "data": {
            "text/plain": [
              "<matplotlib.legend.Legend at 0x7ffb1db73fd0>"
            ]
          },
          "metadata": {
            "tags": []
          },
          "execution_count": 1761
        },
        {
          "output_type": "display_data",
          "data": {
            "image/png": "[encoded data removed]",
            "text/plain": [
              "<Figure size 432x288 with 1 Axes>"
            ]
          },
          "metadata": {
            "tags": []
          }
        }
      ]
    },
    {
      "cell_type": "code",
      "metadata": {
        "id": "xpU8LspzGN32",
        "colab_type": "code",
        "colab": {}
      },
      "source": [
        "#plt.plot(rmse_train)\n",
        "#plt.title(\"Train RMSE\")\n",
        "#plt.xlabel(\"lambda\")\n",
        "#plt.ylabel(\"RMSE\")"
      ],
      "execution_count": 0,
      "outputs": []
    },
    {
      "cell_type": "markdown",
      "metadata": {
        "id": "x0INZyj_bmdo",
        "colab_type": "text"
      },
      "source": [
        "*Question no 1 b)*\n",
        "in order to make the model more general i am shuffling the data.\n",
        "Since the Data is not centralized, the loss function can be defined as follow :\n",
        "*\\begin{align}*\n",
        "\\sum_{i=1}^{n} [(y_i-w_0-\\sum_{j=1}^{p}[X_{ij}w_j])^{2}]\n",
        "\\end{align}\n",
        "Once the Data is  centralized, the loss function can be defined as \n",
        "\\begin{align}\n",
        "\\sum_{i=1}^{n} [(y_i-\\sum_{j=1}^{p}[X_{ij}w_j])^{2}]\n",
        "\\end{align}\n",
        "so i centralized the data and calculated the weight matrix(w) for each set of Kfold Cross validation and calculated the RMSE error for training and cross validation data "
      ]
    },
    {
      "cell_type": "markdown",
      "metadata": {
        "id": "IolG7ZZhg3K0",
        "colab_type": "text"
      },
      "source": [
        "Question no 1c)\n",
        "As we can see in the plot with the increase of $\\lambda$ the coefficients will decrease and based on the graph if we start increasing the $\\lambda$ the Training Error will increase and the test Error will decrease(removing overfitting) but after a certain $\\lambda$ both the training and the test error are increasing so it starts underfitting.But the plot also depends on the shuffling of the dataset as well if all the  class data are unevenly distributed the training error and the test error might increase as well .   "
      ]
    },
    {
      "cell_type": "code",
      "metadata": {
        "id": "Ur0TDup9rJEW",
        "colab_type": "code",
        "colab": {}
      },
      "source": [
        ""
      ],
      "execution_count": 0,
      "outputs": []
    }
  ]
}