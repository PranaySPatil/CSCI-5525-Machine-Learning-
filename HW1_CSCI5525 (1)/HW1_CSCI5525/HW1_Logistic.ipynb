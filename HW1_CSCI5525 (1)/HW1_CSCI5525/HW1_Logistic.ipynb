{
  "nbformat": 4,
  "nbformat_minor": 0,
  "metadata": {
    "colab": {
      "name": "HW1-Logistic.ipynb",
      "provenance": [],
      "collapsed_sections": []
    },
    "kernelspec": {
      "name": "python3",
      "display_name": "Python 3"
    }
  },
  "cells": [
    {
      "cell_type": "code",
      "metadata": {
        "id": "PXQL0iXGFZn2",
        "colab_type": "code",
        "colab": {}
      },
      "source": [
        "import pandas as pd\n",
        "import numpy as np\n",
        "import matplotlib.pyplot as plt"
      ],
      "execution_count": 0,
      "outputs": []
    },
    {
      "cell_type": "code",
      "metadata": {
        "id": "c32QyQ3I5KJs",
        "colab_type": "code",
        "colab": {}
      },
      "source": [
        "X=pd.read_csv(\"IRISFeat.csv\",header=None)\n",
        "Y=pd.read_csv(\"IRISlabel.csv\",header=None)\n",
        "index = [i for i in range(X.shape[0])]\n",
        "np.random.shuffle(index)\n",
        "X=X.set_index([index]).sort_index()\n",
        "Y=Y.set_index([index]).sort_index()\n",
        "X[3]=1;\n",
        "no_of_folds=5"
      ],
      "execution_count": 0,
      "outputs": []
    },
    {
      "cell_type": "code",
      "metadata": {
        "id": "VDCFTtleU7lh",
        "colab_type": "code",
        "outputId": "fa9ba0c1-8d91-48c7-b05c-ba7d309d49e6",
        "colab": {
          "base_uri": "https://localhost:8080/",
          "height": 35
        }
      },
      "source": [
        "len(X)"
      ],
      "execution_count": 29,
      "outputs": [
        {
          "output_type": "execute_result",
          "data": {
            "text/plain": [
              "150"
            ]
          },
          "metadata": {
            "tags": []
          },
          "execution_count": 29
        }
      ]
    },
    {
      "cell_type": "code",
      "metadata": {
        "id": "gLZOc_zo52ti",
        "colab_type": "code",
        "colab": {}
      },
      "source": [
        "def splitData(itr):\n",
        "  X_shuffled={};\n",
        "  Y_shuffled={};\n",
        "  size=int(len(X)/itr);\n",
        "  start=0;\n",
        "  for iterating_var in range(0,itr):\n",
        "    X_shuffled[iterating_var+1]=X[start:size*(iterating_var+1)];\n",
        "    Y_shuffled[iterating_var+1]=Y[start:size*(iterating_var+1)];\n",
        "    start=size*(iterating_var+1);\n",
        "  return X_shuffled,Y_shuffled;"
      ],
      "execution_count": 0,
      "outputs": []
    },
    {
      "cell_type": "code",
      "metadata": {
        "id": "FbD3Q__-535h",
        "colab_type": "code",
        "colab": {}
      },
      "source": [
        "def getnexttrainvalid(X_shuffled, Y_shuffled, itr):\n",
        "  X_train=pd.DataFrame();\n",
        "  Y_train=pd.DataFrame(); \n",
        "  X_valid=pd.DataFrame();\n",
        "  Y_valid=pd.DataFrame();\n",
        "  for iterating_var in range(0,no_of_folds):\n",
        "    if iterating_var!=itr:\n",
        "      X_train=X_train.append(X_shuffled.get(iterating_var+1));\n",
        "      #Y_train=Y_train.append((Y_shuffled.get(iterating_var+1))[\"PRICE\"]);\n",
        "      Y_train=pd.concat([Y_train, Y_shuffled.get(iterating_var+1)]);\n",
        "    else:\n",
        "      X_valid=X_shuffled.get(iterating_var+1);\n",
        "      Y_valid=pd.concat([Y_valid, Y_shuffled.get(iterating_var+1)])\n",
        "  return X_train,Y_train,X_valid,Y_valid;"
      ],
      "execution_count": 0,
      "outputs": []
    },
    {
      "cell_type": "code",
      "metadata": {
        "id": "2UbLkvr78dDL",
        "colab_type": "code",
        "colab": {}
      },
      "source": [
        "def train(X_train, Y_train):\n",
        "  theta_temp = np.zeros((3,1));\n",
        "  iteration=200;\n",
        "  alpha=0.1;\n",
        "  for i in range(0,iteration):\n",
        "    delta=np.dot(X_train,theta_temp);\n",
        "    h=sigmoid(delta);\n",
        "    theta_temp_derrivaive=np.dot(X_train.transpose(),h-Y_train);\n",
        "    theta_temp_derrivaive=theta_temp_derrivaive/Y_train.shape[0]\n",
        "    theta_temp=theta_temp-alpha*theta_temp_derrivaive\n",
        "  return theta_temp;"
      ],
      "execution_count": 0,
      "outputs": []
    },
    {
      "cell_type": "code",
      "metadata": {
        "id": "ZAycbTvxrV-W",
        "colab_type": "code",
        "colab": {}
      },
      "source": [
        "def sigmoid(x):\n",
        "  return 1 / (1 + np.exp(-x))"
      ],
      "execution_count": 0,
      "outputs": []
    },
    {
      "cell_type": "code",
      "metadata": {
        "id": "c7xiS5_t8i1C",
        "colab_type": "code",
        "colab": {}
      },
      "source": [
        "def predict(X_valid,θ):\n",
        "  delta=np.dot(X_valid,theta);\n",
        "  h=sigmoid(delta);\n",
        "  for i in range(0,h.shape[0]):\n",
        "    if h[i]>0.5:\n",
        "      h[i]=1;\n",
        "    else:\n",
        "      h[i]=0;\n",
        "  return h;"
      ],
      "execution_count": 0,
      "outputs": []
    },
    {
      "cell_type": "code",
      "metadata": {
        "id": "cpxYIifZ-GMX",
        "colab_type": "code",
        "colab": {}
      },
      "source": [
        "def error(target,predicted):\n",
        "  target=abs(target-predicted).to_numpy();\n",
        "  res=0;\n",
        "  for i in range(0,target.shape[0]):\n",
        "    if target[i]>0:\n",
        "      res+=1;\n",
        "  return res/target.shape[0];"
      ],
      "execution_count": 0,
      "outputs": []
    },
    {
      "cell_type": "code",
      "metadata": {
        "id": "4UVTtCP5rX4l",
        "colab_type": "code",
        "colab": {}
      },
      "source": [
        "err_train=0;\n",
        "err_test=0;\n",
        "err_train_set=[]\n",
        "err_test_set=[]\n",
        "X_shuffled,Y_shuffled=splitData(no_of_folds);\n",
        "for itr in range(0,no_of_folds):\n",
        "  X_train,Y_train,X_valid,Y_valid=getnexttrainvalid(X_shuffled,Y_shuffled,itr);\n",
        "  theta=train(X_train,Y_train);\n",
        "  predicted=predict(X_valid,theta);\n",
        "  predicted_train=predict(X_train,theta);\n",
        "  err_train+=error(predicted_train,Y_train);\n",
        "  err_test+=error(predicted,Y_valid);\n",
        "  err_train_set.append(error(predicted_train,Y_train));\n",
        "  err_test_set.append(error(predicted,Y_valid));\n",
        "err_train/=5;\n",
        "err_test/=5;"
      ],
      "execution_count": 0,
      "outputs": []
    },
    {
      "cell_type": "code",
      "metadata": {
        "id": "PMgagSz0vGnR",
        "colab_type": "code",
        "outputId": "fb89115c-a7e7-4eeb-940d-8162fee86a8b",
        "colab": {
          "base_uri": "https://localhost:8080/",
          "height": 35
        }
      },
      "source": [
        "err_train#train_error"
      ],
      "execution_count": 37,
      "outputs": [
        {
          "output_type": "execute_result",
          "data": {
            "text/plain": [
              "0.009999999999999998"
            ]
          },
          "metadata": {
            "tags": []
          },
          "execution_count": 37
        }
      ]
    },
    {
      "cell_type": "code",
      "metadata": {
        "id": "hgLjnv4a3Q__",
        "colab_type": "code",
        "outputId": "aa522a52-ae7b-44d6-c48a-e82292e5d949",
        "colab": {
          "base_uri": "https://localhost:8080/",
          "height": 35
        }
      },
      "source": [
        "err_test"
      ],
      "execution_count": 38,
      "outputs": [
        {
          "output_type": "execute_result",
          "data": {
            "text/plain": [
              "0.013333333333333332"
            ]
          },
          "metadata": {
            "tags": []
          },
          "execution_count": 38
        }
      ]
    },
    {
      "cell_type": "code",
      "metadata": {
        "id": "JK14ktLTQT-D",
        "colab_type": "code",
        "colab": {
          "base_uri": "https://localhost:8080/",
          "height": 104
        },
        "outputId": "bafe8a23-6a36-4cde-8954-9bbfa0633d14"
      },
      "source": [
        "err_train_set"
      ],
      "execution_count": 39,
      "outputs": [
        {
          "output_type": "execute_result",
          "data": {
            "text/plain": [
              "[0.008333333333333333,\n",
              " 0.008333333333333333,\n",
              " 0.016666666666666666,\n",
              " 0.008333333333333333,\n",
              " 0.008333333333333333]"
            ]
          },
          "metadata": {
            "tags": []
          },
          "execution_count": 39
        }
      ]
    },
    {
      "cell_type": "code",
      "metadata": {
        "id": "BT_ql77UQYwd",
        "colab_type": "code",
        "colab": {
          "base_uri": "https://localhost:8080/",
          "height": 35
        },
        "outputId": "729a910e-859e-4715-e971-29835a0ab712"
      },
      "source": [
        "err_test_set"
      ],
      "execution_count": 40,
      "outputs": [
        {
          "output_type": "execute_result",
          "data": {
            "text/plain": [
              "[0.03333333333333333, 0.0, 0.0, 0.03333333333333333, 0.0]"
            ]
          },
          "metadata": {
            "tags": []
          },
          "execution_count": 40
        }
      ]
    },
    {
      "cell_type": "markdown",
      "metadata": {
        "id": "9GnU5K1Up3VS",
        "colab_type": "text"
      },
      "source": [
        "Problem 2B)\n",
        "in order to make the model more general i am shuffling the data.\n",
        "The loss function of of logistic regression can be defined  as follows:\n",
        "\\begin{align}\n",
        "-[ylog(h_\\theta)+(1-y)log(1-h_\\theta)]\n",
        "\\\\ \n",
        "where h_\\theta=\\sigma(\\theta^\\intercal X)\n",
        "\\end{align}\n",
        "and we are perfroming gradient descent to minimize the loss and  find out the optium $\\theta$ value on it as shown by the following equation\n",
        "\\begin{align}\n",
        "\\theta=\\theta-\\alpha(h_\\theta-y)X\n",
        "\\end{align}\n",
        "Then we are calculating the trainning eror and cross validation Error based on the optimum $\\theta$ value\n",
        "\n"
      ]
    },
    {
      "cell_type": "markdown",
      "metadata": {
        "id": "2o_NItFOwUvZ",
        "colab_type": "text"
      },
      "source": [
        "Problem 2c)The training Error and the Cross_Validation Error can be found as 0.9% and 1.3% respectively for 5 fold cross validation.Learning rate are choosen randomly by the user since it is a hyperparameter.If the learning rate is small it takes more number of iteration to converge.if we take a larger learning rate it may overshoot the optimal value.Here i am taking the learning rate of 0.1 and it takes almost 200 iterations to find the minimum value of theta. "
      ]
    },
    {
      "cell_type": "code",
      "metadata": {
        "id": "4X6alGkHQkpg",
        "colab_type": "code",
        "colab": {}
      },
      "source": [
        ""
      ],
      "execution_count": 0,
      "outputs": []
    }
  ]
}